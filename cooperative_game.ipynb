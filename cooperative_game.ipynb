{
 "cells": [
  {
   "cell_type": "code",
   "execution_count": 33,
   "metadata": {
    "collapsed": true
   },
   "outputs": [],
   "source": [
    "import numpy as np\n",
    "from scipy.optimize import fsolve\n",
    "\n",
    "def run_task(b1, b2, C, db1_dx, db2_dx, C_dx):\n",
    "\tn = 2\n",
    "\ty_star_eq = lambda y: db1_dx(y) + db2_dx(y) - C_dx(y)\n",
    "\ty_star = fsolve(y_star_eq, 2)[0]\n",
    "\tb1_star = b1(y_star)\n",
    "\tb2_star = b2(y_star)\n",
    "\tc_star = C(y_star)\n",
    "\tv_1_2 = b1_star + b2_star - c_star\n",
    "\n",
    "\tv1_eq = lambda y: db1_dx(y) - C_dx(y)\n",
    "\tv_1 = fsolve(v1_eq, 2)[0]\n",
    "\n",
    "\tv2_eq = lambda y: db2_dx(y) - C_dx(y)\n",
    "\tv_2 = fsolve(v2_eq, 2)[0]\n",
    "\n",
    "\tv_delta = v_1_2 - (v_1 + v_2)\n",
    "\n",
    "\tsigma_1 = (v_1 + v_1_2 - v_2) / 2\n",
    "\tsigma_2 = (v_2 + v_1_2 - v_1) / 2\n",
    "\n",
    "\tx1_star = b1_star - sigma_1\n",
    "\tx2_star = b2_star - sigma_2\n",
    "\n",
    "\tn_core = np.min([c_star / n, np.min([b1_star, b2_star]) / n])\n",
    "\n",
    "\tpartial_equilibrium_1 = lambda r: db1_dx(y_star) - r*C_dx(y_star)\n",
    "\tr_1 = fsolve(partial_equilibrium_1, 2)[0]\n",
    "\n",
    "\tpartial_equilibrium_2 = lambda r: db2_dx(y_star) - r*C_dx(y_star)\n",
    "\tr_2 = fsolve(partial_equilibrium_2, 2)[0]\n",
    "\n",
    "\tx_partial_equilibrium_1 = r_1 * C(y_star)\n",
    "\tx_partial_equilibrium_2 = r_2 * C(y_star)\n",
    "\n",
    "\tegalitarian_eq = lambda y_h: b1(y_h) + b2(y_h) - v_1_2\n",
    "\ty_hat = fsolve(egalitarian_eq, 2)[0]\n",
    "\n",
    "\tx1_star_eg = b1(y_star) - b1(y_hat)\n",
    "\tx2_star_eg = b2(y_star) - b2(y_hat)\n",
    "\n",
    "\treturn y_star, b1_star, b2_star, c_star, v_1_2, v_1, v_2, v_delta, sigma_1, sigma_2, x1_star, x2_star, n_core, r_1, r_2, x_partial_equilibrium_1, x_partial_equilibrium_2, y_hat, x1_star_eg, x2_star_eg"
   ]
  },
  {
   "cell_type": "code",
   "execution_count": 34,
   "outputs": [
    {
     "data": {
      "text/plain": "(2.1740616459730924,\n 3.3534914256316113,\n 1.4744699542456239,\n 1.1816360101228078,\n 3.646325369754428,\n 1.7655644370746375,\n 1.0000000000000002,\n 0.8807609326797903,\n 2.2059449034145326,\n 1.4403804663398954,\n 1.1475465222170786,\n 0.03408948790572852,\n 0.5908180050614039,\n 0.6880448078735384,\n 0.31195519212646156,\n 0.8130185215614018,\n 0.36861748856140597,\n 1.264370983669657,\n 0.8316085771603547,\n 0.35002743296245176)"
     },
     "execution_count": 34,
     "metadata": {},
     "output_type": "execute_result"
    }
   ],
   "source": [
    "def b1(y: float) -> float:\n",
    "    return 2*np.log(1 + 2*y)\n",
    "\n",
    "def b2(y: float) -> float:\n",
    "    return np.sqrt(y)\n",
    "\n",
    "def C(y: float) -> float:\n",
    "    return np.power(y,2) / 4\n",
    "\n",
    "def db1_dx(y: float) -> float:\n",
    "    return 4 / (1 + 2*y)\n",
    "\n",
    "def db2_dx(y: float) -> float:\n",
    "    return 1 / (2*np.sqrt(y))\n",
    "\n",
    "def C_dx(y: float) -> float:\n",
    "    return y / 2\n",
    "\n",
    "run_task(b1, b2, C, db1_dx, db2_dx, C_dx)"
   ],
   "metadata": {
    "collapsed": false,
    "pycharm": {
     "name": "#%%\n"
    }
   }
  }
 ],
 "metadata": {
  "kernelspec": {
   "name": "conda-env-kpi-py",
   "language": "python",
   "display_name": "Python [conda env:kpi] *"
  },
  "language_info": {
   "codemirror_mode": {
    "name": "ipython",
    "version": 2
   },
   "file_extension": ".py",
   "mimetype": "text/x-python",
   "name": "python",
   "nbconvert_exporter": "python",
   "pygments_lexer": "ipython2",
   "version": "2.7.6"
  }
 },
 "nbformat": 4,
 "nbformat_minor": 0
}