{
 "cells": [
  {
   "cell_type": "code",
   "execution_count": 15,
   "metadata": {
    "collapsed": true
   },
   "outputs": [],
   "source": [
    "import numpy as np\n",
    "from scipy.optimize import fsolve\n",
    "\n",
    "def run_task():\n",
    "\ty_star, b1_star, b2_star, c_star, v_1_2, v_1, v_2, v_delta, sigma_1, sigma_2, x1_sh, x2_sh, n_core, r_1, r_2, x_partial_equilibrium_1, x_partial_equilibrium_2, y_hat, x1_star_eg, x2_star_eg = solve()\n",
    "\tprint(\"coalition game:\")\n",
    "\tprint(\"y*: {:0.2f}\".format(y_star))\n",
    "\tprint(\"b1*: {:0.2f}, b2*: {:0.2f}\".format(b1_star, b2_star))\n",
    "\tprint(\"coalition payoff v_1_2: {:0.2f}\".format(v_1_2))\n",
    "\tprint(\"\\n\")\n",
    "\tprint(\"non-coalition game:\")\n",
    "\tprint(\"first gamer payoff v1: {:0.2f}\".format(v_1))\n",
    "\tprint(\"second gamer payoff v2: {:0.2f}\".format(v_2))\n",
    "\tprint(\"\\n\")\n",
    "\tprint(\"v_delta - coalition vs non-coalition payoffs:  {:0.2f}\".format(v_delta))\n",
    "\tprint(\"\\n\")\n",
    "\tprint(\"Shapley's vector [{:0.2f}, {:0.2f}]\".format(x1_sh, x2_sh))\n",
    "\tprint(\"N-Core {:0.2f}\".format(n_core))\n",
    "\tprint(\"\\n\")\n",
    "\tprint(\"partial equilibrium game r1,r2 [{:0.2f}, {:0.2f}]\".format(r_1, r_2))\n",
    "\tprint(\"partial equilibrium payoff x1,x2 [{:0.2f}, {:0.2f}]\".format(x_partial_equilibrium_1, x_partial_equilibrium_2))\n",
    "\tprint(\"\\n\")\n",
    "\tprint(\"egalitarian game:\")\n",
    "\tprint(\"y_hat {:0.2f}\".format(y_hat))\n",
    "\tprint(\"egalitarian payoff first gamer {:0.2f}\".format(x1_star_eg))\n",
    "\tprint(\"egalitarian payoff second gamer {:0.2f}\".format(x2_star_eg))\n",
    "\n",
    "def solve():\n",
    "\tn = 2\n",
    "\ty_star_eq = lambda y: db1_dx(y) + db2_dx(y) - C_dx(y)\n",
    "\ty_star = fsolve(y_star_eq, 2)[0]\n",
    "\tb1_star = b1(y_star)\n",
    "\tb2_star = b2(y_star)\n",
    "\tc_star = C(y_star)\n",
    "\tv_1_2 = b1_star + b2_star - c_star\n",
    "\n",
    "\tv1_eq = lambda y: db1_dx(y) - C_dx(y)\n",
    "\tv_1 = np.max([fsolve(v1_eq, 2)[0], 0])\n",
    "\n",
    "\tv2_eq = lambda y: db2_dx(y) - C_dx(y)\n",
    "\tv_2 = np.max([fsolve(v2_eq, 2)[0], 0])\n",
    "\n",
    "\tv_delta = v_1_2 - (v_1 + v_2)\n",
    "\n",
    "\tsigma_1 = (v_1 + v_1_2 - v_2) / 2\n",
    "\tsigma_2 = (v_2 + v_1_2 - v_1) / 2\n",
    "\n",
    "\tx1_sh = b1_star - sigma_1\n",
    "\tx2_sh = b2_star - sigma_2\n",
    "\n",
    "\tn_core = np.min([c_star / n, np.min([b1_star, b2_star]) / n])\n",
    "\n",
    "\tr_eq_1 = lambda r: db1_dx(y_star) - r*C_dx(y_star)\n",
    "\tr_eq_2 = lambda r: db2_dx(y_star) - r*C_dx(y_star)\n",
    "\tr_1 = fsolve(r_eq_1, 2)[0]\n",
    "\tr_2 = fsolve(r_eq_2, 2)[0]\n",
    "\n",
    "\tx_partial_equilibrium_1 = r_1 * y_star\n",
    "\tx_partial_equilibrium_2 = r_2 * y_star\n",
    "\n",
    "\tegalitarian_eq = lambda y_h: b1(y_h) + b2(y_h) - v_1_2\n",
    "\ty_hat = fsolve(egalitarian_eq, 2)[0]\n",
    "\n",
    "\tx1_star_eg = b1(y_star) - b1(y_hat)\n",
    "\tx2_star_eg = b2(y_star) - b2(y_hat)\n",
    "\n",
    "\treturn y_star, b1_star, b2_star, c_star, v_1_2, v_1, v_2, v_delta, sigma_1, sigma_2, x1_sh, x2_sh, n_core, r_1, r_2, x_partial_equilibrium_1, x_partial_equilibrium_2, y_hat, x1_star_eg, x2_star_eg"
   ]
  },
  {
   "cell_type": "code",
   "execution_count": 16,
   "outputs": [
    {
     "name": "stdout",
     "output_type": "stream",
     "text": [
      "coalition game:\n",
      "y*: 2.17\n",
      "b1*: 3.35, b2*: 1.47\n",
      "coalition payoff v_1_2: 3.65\n",
      "\n",
      "\n",
      "non-coalition game:\n",
      "first gamer payoff v1: 1.77\n",
      "second gamer payoff v2: 1.00\n",
      "\n",
      "\n",
      "v_delta - coalition vs non-coalition payoffs:  0.88\n",
      "\n",
      "\n",
      "Shapley's vector [1.15, 0.03]\n",
      "N-Core 0.59\n",
      "\n",
      "\n",
      "partial equilibrium game r1,r2 [0.69, 0.31]\n",
      "partial equilibrium payoff x1,x2 [1.50, 0.68]\n",
      "\n",
      "\n",
      "egalitarian game:\n",
      "y_hat 1.26\n",
      "egalitarian payoff first gamer 0.83\n",
      "egalitarian payoff second gamer 0.35\n"
     ]
    }
   ],
   "source": [
    "def b1(y: float) -> float:\n",
    "    return 2*np.log(1 + 2*y)\n",
    "\n",
    "def b2(y: float) -> float:\n",
    "    return np.sqrt(y)\n",
    "\n",
    "def C(y: float) -> float:\n",
    "    return np.power(y,2) / 4\n",
    "\n",
    "def db1_dx(y: float) -> float:\n",
    "    return 4 / (1 + 2*y)\n",
    "\n",
    "def db2_dx(y: float) -> float:\n",
    "    return 1 / (2*np.sqrt(y))\n",
    "\n",
    "def C_dx(y: float) -> float:\n",
    "    return y / 2\n",
    "\n",
    "run_task()"
   ],
   "metadata": {
    "collapsed": false,
    "pycharm": {
     "name": "#%%\n"
    }
   }
  }
 ],
 "metadata": {
  "kernelspec": {
   "name": "conda-env-kpi-py",
   "language": "python",
   "display_name": "Python [conda env:kpi] *"
  },
  "language_info": {
   "codemirror_mode": {
    "name": "ipython",
    "version": 2
   },
   "file_extension": ".py",
   "mimetype": "text/x-python",
   "name": "python",
   "nbconvert_exporter": "python",
   "pygments_lexer": "ipython2",
   "version": "2.7.6"
  }
 },
 "nbformat": 4,
 "nbformat_minor": 0
}